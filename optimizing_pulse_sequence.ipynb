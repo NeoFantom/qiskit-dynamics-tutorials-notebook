{
 "cells": [
  {
   "cell_type": "markdown",
   "id": "57bf3c68",
   "metadata": {},
   "source": [
    "Notebook created: 2023-05-03 14:35:38  \n",
    "Generated from: sphinxcontrib-jupyter.minimal/optimizing_pulse_sequence.rst  "
   ]
  },
  {
   "cell_type": "markdown",
   "id": "747305dd",
   "metadata": {},
   "source": [
    "\n",
    "<a id='optimization-tutorial'></a>"
   ]
  },
  {
   "cell_type": "markdown",
   "id": "3dac0d70",
   "metadata": {},
   "source": [
    "# Gradient optimization of a pulse sequence\n",
    "\n",
    "Here, we walk through an example of optimizing a single-qubit gate using\n",
    "`qiskit_dynamics`. This tutorial requires JAX - see the user guide\n",
    "on How-to use JAX with qiskit-dynamics.\n",
    "\n",
    "We will optimize an $ X $-gate on a model of a qubit system using\n",
    "the following steps:\n",
    "\n",
    "1. Configure `qiskit-dynamics` to work with the JAX backend.  \n",
    "1. Setup a `Solver` instance with the model of the system.  \n",
    "1. Define a pulse sequence parameterization to optimize over.  \n",
    "1. Define a gate fidelity function.  \n",
    "1. Define an objective function for optimization.  \n",
    "1. Use JAX to differentiate the objective, then do the gradient optimization.  \n",
    "1. Repeat the $ X $-gate optimization, alternatively using pulse schedules to specify the control sequence.  "
   ]
  },
  {
   "cell_type": "markdown",
   "id": "b1eea4b1",
   "metadata": {},
   "source": [
    "## 1. Configure to use JAX\n",
    "\n",
    "First, set JAX to operate in 64-bit mode, and set JAX as the default\n",
    "backend using `Array` for performing array operations.\n",
    "This is necessary to enable automatic differentiation of the Qiskit Dynamics code\n",
    "in this tutorial. See the user guide entry on using JAX\n",
    "for a more detailed explanation of why this step is necessary."
   ]
  },
  {
   "cell_type": "code",
   "execution_count": null,
   "id": "9dbf2f11",
   "metadata": {
    "hide-output": false
   },
   "outputs": [],
   "source": [
    "import jax\n",
    "jax.config.update(\"jax_enable_x64\", True)\n",
    "\n",
    "# tell JAX we are using CPU\n",
    "jax.config.update('jax_platform_name', 'cpu')\n",
    "\n",
    "from qiskit_dynamics.array import Array\n",
    "Array.set_default_backend('jax')"
   ]
  },
  {
   "cell_type": "markdown",
   "id": "974ffe1f",
   "metadata": {},
   "source": [
    "## 2. Setup the solver\n",
    "\n",
    "Here we will setup a `Solver` with a simple model of a qubit. The\n",
    "Hamiltonian is:\n",
    "\n",
    "$$\n",
    "H(t) = 2 \\pi \\nu \\frac{Z}{2} + 2 \\pi r s(t) \\frac{X}{2}\n",
    "$$\n",
    "\n",
    "In the above:\n",
    "\n",
    "- $ \\nu $ is the qubit frequency,  \n",
    "- $ r $ is the drive strength,  \n",
    "- $ s(t) $ is the drive signal which we will optimize, and  \n",
    "- $ X $ and $ Z $ are the Pauli X and Z operators.  \n",
    "\n",
    "\n",
    "We will setup the problem to be in the rotating frame of the drift term.\n",
    "\n",
    "Also note: The `Solver` is initialized *without* signals, as we will\n",
    "update these and optimize over this later."
   ]
  },
  {
   "cell_type": "code",
   "execution_count": null,
   "id": "b24a728c",
   "metadata": {
    "hide-output": false
   },
   "outputs": [],
   "source": [
    "import numpy as np\n",
    "from qiskit.quantum_info import Operator\n",
    "from qiskit_dynamics import Solver\n",
    "\n",
    "v = 5.\n",
    "r = 0.02\n",
    "\n",
    "static_hamiltonian = 2 * np.pi * v * Operator.from_label('Z') / 2\n",
    "drive_term = 2 * np.pi * r * Operator.from_label('X') / 2\n",
    "\n",
    "ham_solver = Solver(\n",
    "    hamiltonian_operators=[drive_term],\n",
    "    static_hamiltonian=static_hamiltonian,\n",
    "    rotating_frame=static_hamiltonian,\n",
    ")"
   ]
  },
  {
   "cell_type": "markdown",
   "id": "b93503f7",
   "metadata": {},
   "source": [
    "## 3. Define a pulse sequence parameterization to optimize over\n",
    "\n",
    "We will optimize over signals that are:\n",
    "\n",
    "- On resonance with piecewise constant envelopes,  \n",
    "- Envelopes bounded between $ [-1, 1] $,  \n",
    "- Envelopes are smooth, in the sense that the change between adjacent\n",
    "  samples is small, and  \n",
    "- Envelope starts and ends at $ 0 $.  \n",
    "\n",
    "\n",
    "In setting up our parameterization, we need t keep in mind that we will\n",
    "use the BFGS optimization routine, and hence:\n",
    "\n",
    "- Optimization parameters must be *unconstrained*.  \n",
    "- Parameterization must be JAX-differentiable.  \n",
    "\n",
    "\n",
    "We implement a parameterization as follows:\n",
    "\n",
    "- Input: Array `x` of real values.  \n",
    "- “Normalize” `x` by applying a JAX-differentiable function from\n",
    "  $ \\mathbb{R} \\rightarrow [-1, 1] $.  \n",
    "- Pad the normalized `x` with a $ 0. $ to start.  \n",
    "- “Smoothen” the above via convolution.  \n",
    "- Construct the signal using the above as the samples for a\n",
    "  piecewise-constant envelope, with carrier frequency on resonance.  \n",
    "\n",
    "\n",
    "We remark that there are many other parameterizations that may achieve\n",
    "the same ends, and may have more efficient strategies for achieving a\n",
    "value of $ 0 $ at the beginning and end of the pulse. This is only\n",
    "meant to demonstrate the need for such an approach, and one simple\n",
    "example of one."
   ]
  },
  {
   "cell_type": "code",
   "execution_count": null,
   "id": "3499f5ac",
   "metadata": {
    "hide-output": false
   },
   "outputs": [],
   "source": [
    "from qiskit_dynamics import DiscreteSignal\n",
    "from qiskit_dynamics.array import Array\n",
    "from qiskit_dynamics.signals import Convolution\n",
    "\n",
    "# define convolution filter\n",
    "def gaus(t):\n",
    "    sigma = 15\n",
    "    _dt = 0.1\n",
    "    return 2.*_dt/np.sqrt(2.*np.pi*sigma**2)*np.exp(-t**2/(2*sigma**2))\n",
    "\n",
    "convolution = Convolution(gaus)\n",
    "\n",
    "# define function mapping parameters to signals\n",
    "def signal_mapping(params):\n",
    "    samples = Array(params)\n",
    "\n",
    "    # map samples into [-1, 1]\n",
    "    bounded_samples = np.arctan(samples) / (np.pi / 2)\n",
    "\n",
    "    # pad with 0 at beginning\n",
    "    padded_samples = np.append(Array([0], dtype=complex), bounded_samples)\n",
    "\n",
    "    # apply filter\n",
    "    output_signal = convolution(DiscreteSignal(dt=1., samples=padded_samples))\n",
    "\n",
    "    # set carrier frequency to v\n",
    "    output_signal.carrier_freq = v\n",
    "\n",
    "    return output_signal"
   ]
  },
  {
   "cell_type": "markdown",
   "id": "719f1145",
   "metadata": {},
   "source": [
    "Observe, for example, the signal generated when all parameters are\n",
    "$ 10^8 $:"
   ]
  },
  {
   "cell_type": "code",
   "execution_count": null,
   "id": "ba439a8b",
   "metadata": {
    "hide-output": false
   },
   "outputs": [],
   "source": [
    "signal = signal_mapping(np.ones(80) * 1e8)\n",
    "signal.draw(t0=0., tf=signal.duration * signal.dt, n=1000, function='envelope')"
   ]
  },
  {
   "cell_type": "markdown",
   "id": "e3a3c7cd",
   "metadata": {},
   "source": [
    "## 4. Define gate fidelity\n",
    "\n",
    "We will optimize an $ X $ gate, and define the fidelity of the unitary $ U $\n",
    "implemented by the pulse via the standard fidelity measure:\n",
    "\n",
    "$$\n",
    "f(U) = \\frac{|\\text{Tr}(XU)|^2}{4}\n",
    "$$"
   ]
  },
  {
   "cell_type": "code",
   "execution_count": null,
   "id": "903ab5cb",
   "metadata": {
    "hide-output": false
   },
   "outputs": [],
   "source": [
    "X_op = Array(Operator.from_label('X'))\n",
    "\n",
    "def fidelity(U):\n",
    "    U = Array(U)\n",
    "\n",
    "    return np.abs(np.sum(X_op * U))**2 / 4."
   ]
  },
  {
   "cell_type": "markdown",
   "id": "1e1b9866",
   "metadata": {},
   "source": [
    "## 5. Define the objective function\n",
    "\n",
    "The function we want to optimize consists of:\n",
    "\n",
    "- Taking a list of input samples and applying the signal mapping.  \n",
    "- Simulating the Schrodinger equation over the length of the pulse\n",
    "  sequence.  \n",
    "- Computing and return the infidelity (we minimize $ 1-f(U) $).  "
   ]
  },
  {
   "cell_type": "code",
   "execution_count": null,
   "id": "3b3657f8",
   "metadata": {
    "hide-output": false
   },
   "outputs": [],
   "source": [
    "def objective(params):\n",
    "\n",
    "    # apply signal mapping and set signals\n",
    "    signal = signal_mapping(params)\n",
    "\n",
    "    # Simulate\n",
    "    results = ham_solver.solve(\n",
    "        y0=np.eye(2, dtype=complex),\n",
    "        t_span=[0, signal.duration * signal.dt],\n",
    "        signals=[signal],\n",
    "        method='jax_odeint',\n",
    "        atol=1e-8,\n",
    "        rtol=1e-8\n",
    "    )\n",
    "    U = results.y[-1]\n",
    "\n",
    "    # compute and return infidelity\n",
    "    fid = fidelity(U)\n",
    "    return 1. - fid.data"
   ]
  },
  {
   "cell_type": "markdown",
   "id": "0c8ec0af",
   "metadata": {},
   "source": [
    "## 6. Perform JAX transformations and optimize\n",
    "\n",
    "Finally, we gradient optimize the objective:\n",
    "\n",
    "- Use `jax.value_and_grad` to transform the objective into a function\n",
    "  that computes both the objective and the gradient.  \n",
    "- Use `jax.jit` to just-in-time compile the function into optimized\n",
    "  [XLA](https://www.tensorflow.org/xla) code. For the initial cost of\n",
    "  performing the compilation, this speeds up each call of the function,\n",
    "  speeding up the optimization.  \n",
    "- Call `scipy.optimize.minimize` with the above, with\n",
    "  `method='BFGS'` and `jac=True` to indicate that the passed\n",
    "  objective also computes the gradient.  "
   ]
  },
  {
   "cell_type": "code",
   "execution_count": null,
   "id": "e25a01fe",
   "metadata": {
    "hide-output": false
   },
   "outputs": [],
   "source": [
    "from jax import jit, value_and_grad\n",
    "from scipy.optimize import minimize\n",
    "\n",
    "jit_grad_obj = jit(value_and_grad(objective))\n",
    "\n",
    "initial_guess = np.random.rand(80) - 0.5\n",
    "\n",
    "opt_results = minimize(fun=jit_grad_obj, x0=initial_guess, jac=True, method='BFGS')\n",
    "print(opt_results.message)\n",
    "print('Number of function evaluations: ' + str(opt_results.nfev))\n",
    "print('Function value: ' + str(opt_results.fun))"
   ]
  },
  {
   "cell_type": "markdown",
   "id": "f633821c",
   "metadata": {},
   "source": [
    "The gate is optimized to an $ X $ gate, with deviation within the\n",
    "numerical accuracy of the solver.\n",
    "\n",
    "We can draw the optimized signal, which is retrieved by applying the\n",
    "`signal_mapping` to the optimized parameters."
   ]
  },
  {
   "cell_type": "code",
   "execution_count": null,
   "id": "f2a512ae",
   "metadata": {
    "hide-output": false
   },
   "outputs": [],
   "source": [
    "opt_signal = signal_mapping(opt_results.x)\n",
    "\n",
    "opt_signal.draw(\n",
    "    t0=0,\n",
    "    tf=opt_signal.duration * opt_signal.dt,\n",
    "    n=1000,\n",
    "    function='envelope',\n",
    "    title='Optimized envelope'\n",
    ")"
   ]
  },
  {
   "cell_type": "markdown",
   "id": "ac480231",
   "metadata": {},
   "source": [
    "Summing the signal samples yields approximately $ \\pm 50 $, which is\n",
    "equivalent to what one would expect based on a rotating wave\n",
    "approximation analysis."
   ]
  },
  {
   "cell_type": "code",
   "execution_count": null,
   "id": "6ed69505",
   "metadata": {
    "hide-output": false
   },
   "outputs": [],
   "source": [
    "opt_signal.samples.sum()"
   ]
  },
  {
   "cell_type": "markdown",
   "id": "b7d5180f",
   "metadata": {},
   "source": [
    "## 7.  Repeat the $ X $-gate optimization, alternatively using pulse schedules to specify the control sequence.\n",
    "\n",
    "Here, we perform the optimization again, however now we specify the parameterized control sequence\n",
    "to optimize as a pulse schedule.\n",
    "\n",
    "We construct a Gaussian square pulse as a `ScalableSymbolicPulse`\n",
    "instance, parameterized by `sigma` and `width`. Although qiskit pulse provides a\n",
    "`GaussianSquare`, this class is not JAX compatible. See the user guide\n",
    "entry on JAX-compatible pulse schedules."
   ]
  },
  {
   "cell_type": "code",
   "execution_count": null,
   "id": "27516065",
   "metadata": {
    "hide-output": false
   },
   "outputs": [],
   "source": [
    "import sympy as sym\n",
    "from qiskit import pulse\n",
    "\n",
    "def lifted_gaussian(\n",
    "    t: sym.Symbol,\n",
    "    center,\n",
    "    t_zero,\n",
    "    sigma,\n",
    ") -> sym.Expr:\n",
    "    t_shifted = (t - center).expand()\n",
    "    t_offset = (t_zero - center).expand()\n",
    "\n",
    "    gauss = sym.exp(-((t_shifted / sigma) ** 2) / 2)\n",
    "    offset = sym.exp(-((t_offset / sigma) ** 2) / 2)\n",
    "\n",
    "    return (gauss - offset) / (1 - offset)\n",
    "\n",
    "def gaussian_square_generated_by_pulse(params):\n",
    "\n",
    "    sigma, width = params\n",
    "    _t, _duration, _amp, _sigma, _width, _angle = sym.symbols(\n",
    "        \"t, duration, amp, sigma, width, angle\"\n",
    "    )\n",
    "    _center = _duration / 2\n",
    "\n",
    "    _sq_t0 = _center - _width / 2\n",
    "    _sq_t1 = _center + _width / 2\n",
    "\n",
    "    _gaussian_ledge = lifted_gaussian(_t, _sq_t0, -1, _sigma)\n",
    "    _gaussian_redge = lifted_gaussian(_t, _sq_t1, _duration + 1, _sigma)\n",
    "\n",
    "    envelope_expr = (\n",
    "        _amp\n",
    "        * sym.exp(sym.I * _angle)\n",
    "        * sym.Piecewise(\n",
    "            (_gaussian_ledge, _t <= _sq_t0), (_gaussian_redge, _t >= _sq_t1), (1, True)\n",
    "        )\n",
    "    )\n",
    "\n",
    "    return pulse.ScalableSymbolicPulse(\n",
    "            pulse_type=\"GaussianSquare\",\n",
    "            duration=230,\n",
    "            amp=1,\n",
    "            angle=0,\n",
    "            parameters={\"sigma\": sigma, \"width\": width},\n",
    "            envelope=envelope_expr,\n",
    "            constraints=sym.And(_sigma > 0, _width >= 0, _duration >= _width),\n",
    "            valid_amp_conditions=sym.Abs(_amp) <= 1.0,\n",
    "        )"
   ]
  },
  {
   "cell_type": "markdown",
   "id": "29808aec",
   "metadata": {},
   "source": [
    "Next, we construct a pulse schedule using the above parametrized Gaussian square pulse, convert it\n",
    "to a signal, and simulate the equation over the length of the pulse sequence."
   ]
  },
  {
   "cell_type": "code",
   "execution_count": null,
   "id": "bce99e7f",
   "metadata": {
    "hide-output": false
   },
   "outputs": [],
   "source": [
    "from qiskit_dynamics.pulse import InstructionToSignals\n",
    "\n",
    "dt = 0.222\n",
    "w = 5.\n",
    "\n",
    "def objective(params):\n",
    "\n",
    "    instance = gaussian_square_generated_by_pulse(params)\n",
    "\n",
    "    with pulse.build() as Xp:\n",
    "        pulse.play(instance, pulse.DriveChannel(0))\n",
    "\n",
    "    converter = InstructionToSignals(dt, carriers={\"d0\": w})\n",
    "    signal = converter.get_signals(Xp)\n",
    "\n",
    "    result = ham_solver.solve(\n",
    "        y0=np.eye(2, dtype=complex),\n",
    "        t_span=[0, instance.duration * dt],\n",
    "        signals=[signal],\n",
    "        method='jax_odeint',\n",
    "        atol=1e-8,\n",
    "        rtol=1e-8\n",
    "    )\n",
    "    return 1. - fidelity(Array(result[0].y[-1])).data"
   ]
  },
  {
   "cell_type": "markdown",
   "id": "544cea08",
   "metadata": {},
   "source": [
    "We set the initial values of `sigma` and `width` for the optimization as\n",
    "`initial_params = np.array([10, 10])`."
   ]
  },
  {
   "cell_type": "code",
   "execution_count": null,
   "id": "d18c2ea7",
   "metadata": {
    "hide-output": false
   },
   "outputs": [],
   "source": [
    "initial_params = np.array([10, 10])\n",
    "gaussian_square_generated_by_pulse(initial_params).draw()"
   ]
  },
  {
   "cell_type": "code",
   "execution_count": null,
   "id": "87d29a6a",
   "metadata": {
    "hide-output": false
   },
   "outputs": [],
   "source": [
    "from jax import jit, value_and_grad\n",
    "from scipy.optimize import minimize\n",
    "\n",
    "jit_grad_obj = jit(value_and_grad(objective))\n",
    "\n",
    "initial_params = np.array([10,10])\n",
    "\n",
    "\n",
    "opt_results = minimize(fun=jit_grad_obj, x0=initial_params, jac=True, method='BFGS')\n",
    "\n",
    "print(opt_results.message)\n",
    "print(f\"Optimized Sigma is {opt_results.x[0]} and Width is {opt_results.x[1]}\")\n",
    "print('Number of function evaluations: ' + str(opt_results.nfev))\n",
    "print('Function value: ' + str(opt_results.fun))"
   ]
  },
  {
   "cell_type": "markdown",
   "id": "bb820a36",
   "metadata": {},
   "source": [
    "We can draw the optimized pulse, whose parameters are retrieved by `opt_results.x`."
   ]
  },
  {
   "cell_type": "code",
   "execution_count": null,
   "id": "dfb4af37",
   "metadata": {
    "hide-output": false
   },
   "outputs": [],
   "source": [
    "gaussian_square_generated_by_pulse(opt_results.x).draw()"
   ]
  }
 ],
 "metadata": {
  "date": 1683095738.1925194,
  "filename": "optimizing_pulse_sequence.rst",
  "kernelspec": {
   "display_name": "Python",
   "language": "python3",
   "name": "python3"
  },
  "title": "Gradient optimization of a pulse sequence"
 },
 "nbformat": 4,
 "nbformat_minor": 5
}