{
 "cells": [
  {
   "cell_type": "markdown",
   "id": "8fd0f3ae",
   "metadata": {},
   "source": [
    "Notebook created: 2023-05-03 14:35:38  \n",
    "Generated from: sphinxcontrib-jupyter.minimal/dynamics_backend.rst  "
   ]
  },
  {
   "cell_type": "markdown",
   "id": "cba6ac5d",
   "metadata": {},
   "source": [
    "`CrossResonanceHamiltonian`\n",
    "<a id='dynamics-backend'></a>"
   ]
  },
  {
   "cell_type": "markdown",
   "id": "c5367f87",
   "metadata": {},
   "source": [
    "# Simulating backends at the pulse-level with `DynamicsBackend`\n",
    "\n",
    "In this tutorial we walk through how to use the `DynamicsBackend` class as a Qiskit\n",
    "Dynamics-backed, pulse-level simulator of a real backend. In particular, we demonstrate how to\n",
    "configure a `DynamicsBackend` to simulate pulse schedules, circuits whose gates have pulse\n",
    "definitions, and calibration and characterization experiments from Qiskit Experiments.\n",
    "\n",
    "The sections of this tutorial are as follows:\n",
    "\n",
    "1. Configure Dynamics to use JAX.  \n",
    "1. Instantiating a minimally-configured `DynamicsBackend` with a 2 qubit model.  \n",
    "1. Simulating pulse schedules on the `DynamicsBackend`.  \n",
    "1. Simulating circuits at the pulse level using the `DynamicsBackend`.  \n",
    "1. Simulating single-qubit calibration processes via Qiskit Experiments.  \n",
    "1. Simulating 2 qubit interaction characterization via the `CrossResonanceHamiltonian` experiment.  "
   ]
  },
  {
   "cell_type": "markdown",
   "id": "941b8055",
   "metadata": {},
   "source": [
    "## 1. Configure Dynamics to use JAX\n",
    "\n",
    "Note that the `DynamicsBackend` internally performs just-in-time compilation automatically\n",
    "when configured to use JAX. See the User Guide entry on using JAX with Dynamics for more information."
   ]
  },
  {
   "cell_type": "code",
   "execution_count": null,
   "id": "99698556",
   "metadata": {
    "hide-output": false,
    "vscode": {
     "languageId": "python3"
    }
   },
   "outputs": [],
   "source": [
    "# Configure to use JAX internally\n",
    "import jax\n",
    "jax.config.update(\"jax_enable_x64\", True)\n",
    "jax.config.update(\"jax_platform_name\", \"cpu\")\n",
    "from qiskit_dynamics.array import Array\n",
    "Array.set_default_backend(\"jax\")"
   ]
  },
  {
   "attachments": {},
   "cell_type": "markdown",
   "id": "0fcad0af",
   "metadata": {},
   "source": [
    "## 2. Instantiating a minimally-configured `DynamicsBackend` with a 2 qubit model\n",
    "\n",
    "To create the `DynamicsBackend`, first specify a `Solver` instance using the model\n",
    "details. Note that the choice of model depends on the type of device you wish to simulate. Here, we\n",
    "will use a $ 2 $ qubit fixed-frequency transmon model with fixed coupling, with the following\n",
    "Hamiltonian (see the [Qiskit Textbook page on Circuit Quantum Electrodynamics](https://qiskit.org/textbook/ch-quantum-hardware/cQED-JC-SW.html) for details on how transmon\n",
    "Hamiltonians are derived):\n",
    "\n",
    "$$\n",
    "\\begin{align*}\n",
    "  H(t) = 2 \\pi \\nu_0 &N_0 + \\pi \\alpha_0 N_0 (N_0 - I) + 2 \\pi \\nu_1 N_1\n",
    "  + \\pi \\alpha_1 N_1(N_1 - I) + 2 \\pi J (a_0 + a_0^\\dagger)(a_1 + a_1^\\dagger) \\\\\n",
    "  & + 2 \\pi r_0 s_0(t)(a_0 + a_0^\\dagger) + 2 \\pi r_1 s_1(t)(a_1 + a_1^\\dagger),\n",
    "\\end{align*}\n",
    "$$\n",
    "\n",
    "where\n",
    "\n",
    "- $ \\nu_0 $ and $ \\nu_1 $ are the qubit frequencies,  \n",
    "- $ \\alpha_0 $ and $ \\alpha_1 $ are the qubit anharmonicities,  \n",
    "- $ J $ is the coupling strength,  \n",
    "- $ r_0 $ and $ r_1 $ are the Rabi strengths, and $ s_0(t) $ and $ s_1(t) $ are the\n",
    "  drive signals,  \n",
    "- $ a_j $ and $ a_j^\\dagger $ are the lowering and raising operators for qubit $ j $,\n",
    "  and  \n",
    "- $ N_0 $ and $ N_1 $ are the number operators for qubits $ 0 $ and $ 1 $\n",
    "  respectively.  "
   ]
  },
  {
   "cell_type": "code",
   "execution_count": null,
   "id": "89548095",
   "metadata": {
    "hide-output": false,
    "vscode": {
     "languageId": "python3"
    }
   },
   "outputs": [],
   "source": [
    "import numpy as np\n",
    "\n",
    "dim = 3\n",
    "\n",
    "v0 = 4.86e9\n",
    "anharm0 = -0.32e9\n",
    "r0 = 0.22e9\n",
    "\n",
    "v1 = 4.97e9\n",
    "anharm1 = -0.32e9\n",
    "r1 = 0.26e9\n",
    "\n",
    "J = 0.002e9\n",
    "\n",
    "a = np.diag(np.sqrt(np.arange(1, dim)), 1)\n",
    "adag = np.diag(np.sqrt(np.arange(1, dim)), -1)\n",
    "N = np.diag(np.arange(dim))\n",
    "\n",
    "ident = np.eye(dim, dtype=complex)\n",
    "full_ident = np.eye(dim**2, dtype=complex)\n",
    "\n",
    "N0 = np.kron(ident, N)\n",
    "N1 = np.kron(N, ident)\n",
    "\n",
    "a0 = np.kron(ident, a)\n",
    "a1 = np.kron(a, ident)\n",
    "\n",
    "a0dag = np.kron(ident, adag)\n",
    "a1dag = np.kron(adag, ident)\n",
    "\n",
    "\n",
    "static_ham0 = 2 * np.pi * v0 * N0 + np.pi * anharm0 * N0 * (N0 - full_ident)\n",
    "static_ham1 = 2 * np.pi * v1 * N1 + np.pi * anharm1 * N1 * (N1 - full_ident)\n",
    "\n",
    "static_ham_full = static_ham0 + static_ham1 + 2 * np.pi * J * ((a0 + a0dag) @ (a1 + a1dag))\n",
    "\n",
    "drive_op0 = 2 * np.pi * r0 * (a0 + a0dag)\n",
    "drive_op1 = 2 * np.pi * r1 * (a1 + a1dag)"
   ]
  },
  {
   "cell_type": "markdown",
   "id": "c709dabf",
   "metadata": {},
   "source": [
    "Construct the `Solver` using the model details, including parameters necessary for pulse\n",
    "simulation. See the `Solver` documentation, as well as the [tutorial example](qiskit_pulse.ipynb#pulse-solver) for more details. Here, we choose to perform the simulation in the rotating frame of the\n",
    "static Hamiltonian, which provides performance improvements (see the user guide entry on\n",
    "configuring simulations for performance). Note that the measurement\n",
    "outcomes of `DynamicsBackend.run()` are independent of the choice of rotating frame in the\n",
    "`Solver`, and as such we are free to choose the rotating frame that provides the best\n",
    "performance."
   ]
  },
  {
   "cell_type": "code",
   "execution_count": null,
   "id": "150590d5",
   "metadata": {
    "hide-output": false,
    "vscode": {
     "languageId": "python3"
    }
   },
   "outputs": [],
   "source": [
    "from qiskit_dynamics import Solver\n",
    "\n",
    "# build solver\n",
    "dt = 1/4.5e9\n",
    "\n",
    "solver = Solver(\n",
    "    static_hamiltonian=static_ham_full,\n",
    "    hamiltonian_operators=[drive_op0, drive_op1, drive_op0, drive_op1],\n",
    "    rotating_frame=static_ham_full,\n",
    "    hamiltonian_channels=[\"d0\", \"d1\", \"u0\", \"u1\"],\n",
    "    channel_carrier_freqs={\"d0\": v0, \"d1\": v1, \"u0\": v1, \"u1\": v0},\n",
    "    dt=dt,\n",
    ")"
   ]
  },
  {
   "cell_type": "markdown",
   "id": "d615947a",
   "metadata": {},
   "source": [
    "Next, instantiate the `DynamicsBackend`. The `solver` is used for simulation,\n",
    "`subsystem_dims` indicates how the full system decomposes for measurement data computation, and\n",
    "`solver_options` are consistent options used by `Solver.solve()` when simulating the\n",
    "differential equation. The full list of allowable `solver_options` are the arguments to\n",
    "`solve_ode()`.\n",
    "\n",
    "Note that, to enable the internal automatic jit-compilation, we choose a JAX integration method."
   ]
  },
  {
   "cell_type": "code",
   "execution_count": null,
   "id": "fda30d4b",
   "metadata": {
    "hide-output": false,
    "vscode": {
     "languageId": "python3"
    }
   },
   "outputs": [],
   "source": [
    "from qiskit_dynamics import DynamicsBackend\n",
    "\n",
    "# Consistent solver option to use throughout notebook\n",
    "solver_options = {\"method\": \"jax_odeint\", \"atol\": 1e-6, \"rtol\": 1e-8}\n",
    "\n",
    "backend = DynamicsBackend(\n",
    "    solver=solver,\n",
    "    subsystem_dims=[dim, dim], # for computing measurement data\n",
    "    solver_options=solver_options, # to be used every time run is called\n",
    ")"
   ]
  },
  {
   "cell_type": "markdown",
   "id": "4f04bce1",
   "metadata": {},
   "source": [
    "Alternatively to the above, the `DynamicsBackend.from_backend()` method can be used to build\n",
    "the `DynamicsBackend` from an existing backend. The above model, which was built manually,\n",
    "was taken from qubits $ 0 $ and $ 1 $ of `almaden`."
   ]
  },
  {
   "cell_type": "markdown",
   "id": "30ec0071",
   "metadata": {},
   "source": [
    "## 3. Simulating pulse schedules on the `DynamicsBackend`\n",
    "\n",
    "With the above backend, we can already simulate a list of pulse schedules. The code below generates\n",
    "a list of schedules specifying experiments on qubit $ 0 $. The schedule is chosen to demonstrate\n",
    "that the usual instructions work on the `DynamicsBackend`.\n",
    "\n",
    ">**Note**\n",
    ">\n",
    ">In the following constructed schedule, measurement is performed with an\n",
    "`Acquire` instruction of duration `1`. Measurements in\n",
    "`DynamicsBackend` are computed projectively at the start time of the acquire\n",
    "instructions, and the effects of measurement stimulus through\n",
    "`MeasureChannel`s are not simulated unless explicitly put into\n",
    "the model by the user. As such, the lack of `MeasureChannel`\n",
    "stimulus, and the duration of the `Acquire` instruction has no\n",
    "impact on the returned results."
   ]
  },
  {
   "cell_type": "code",
   "execution_count": null,
   "id": "ce84e33b",
   "metadata": {
    "hide-output": false,
    "vscode": {
     "languageId": "python3"
    }
   },
   "outputs": [],
   "source": [
    "%%time\n",
    "\n",
    "from qiskit import pulse\n",
    "\n",
    "sigma = 128\n",
    "num_samples = 256\n",
    "\n",
    "schedules = []\n",
    "\n",
    "for amp in np.linspace(0., 1., 10):\n",
    "    gauss = pulse.library.Gaussian(\n",
    "        num_samples, amp, sigma, name=\"Parametric Gauss\"\n",
    "    )\n",
    "\n",
    "    with pulse.build() as schedule:\n",
    "        with pulse.align_sequential():\n",
    "            pulse.play(gauss, pulse.DriveChannel(0))\n",
    "            pulse.shift_phase(0.5, pulse.DriveChannel(0))\n",
    "            pulse.shift_frequency(0.1, pulse.DriveChannel(0))\n",
    "            pulse.play(gauss, pulse.DriveChannel(0))\n",
    "            pulse.acquire(duration=1, qubit_or_channel=0, register=pulse.MemorySlot(0))\n",
    "\n",
    "    schedules.append(schedule)\n",
    "\n",
    "job = backend.run(schedules, shots=100)\n",
    "result = job.result()"
   ]
  },
  {
   "cell_type": "markdown",
   "id": "66596244",
   "metadata": {},
   "source": [
    "Visualize one of the schedules."
   ]
  },
  {
   "cell_type": "code",
   "execution_count": null,
   "id": "35aac027",
   "metadata": {
    "hide-output": false,
    "vscode": {
     "languageId": "python3"
    }
   },
   "outputs": [],
   "source": [
    "schedules[3].draw()"
   ]
  },
  {
   "cell_type": "markdown",
   "id": "ecb7d134",
   "metadata": {},
   "source": [
    "Retrieve the counts for one of the experiments as would be done using the results object from a real\n",
    "backend."
   ]
  },
  {
   "cell_type": "code",
   "execution_count": null,
   "id": "5216f51a",
   "metadata": {
    "hide-output": false,
    "vscode": {
     "languageId": "python3"
    }
   },
   "outputs": [],
   "source": [
    "result.get_counts(3)"
   ]
  },
  {
   "cell_type": "markdown",
   "id": "cfef0651",
   "metadata": {},
   "source": [
    "## 4. Simulating circuits at the pulse level using the `DynamicsBackend`\n",
    "\n",
    "For the `DynamicsBackend` to simulate a circuit, each circuit element must have a\n",
    "corresponding pulse schedule. These schedules can either be specified in the gates themselves, by\n",
    "attaching calibrations, or by adding instructions to the `Target`\n",
    "contained in the `DynamicsBackend`."
   ]
  },
  {
   "cell_type": "markdown",
   "id": "072b1399",
   "metadata": {},
   "source": [
    "### 4.1 Simulating circuits with attached calibrations\n",
    "\n",
    "Build a simple circuit. Here we build one consisting of a single Hadamard gate on qubit $ 0 $,\n",
    "followed by measurement."
   ]
  },
  {
   "cell_type": "code",
   "execution_count": null,
   "id": "b73429f8",
   "metadata": {
    "hide-output": false,
    "vscode": {
     "languageId": "python3"
    }
   },
   "outputs": [],
   "source": [
    "from qiskit import QuantumCircuit\n",
    "\n",
    "circ = QuantumCircuit(1, 1)\n",
    "circ.h(0)\n",
    "circ.measure([0], [0])\n",
    "\n",
    "circ.draw(\"mpl\")"
   ]
  },
  {
   "cell_type": "markdown",
   "id": "f4b0e20b",
   "metadata": {},
   "source": [
    "Next, attach a calibration for the Hadamard gate on qubit $ 0 $ to the circuit. Note that here\n",
    "we are only demonstrating the mechanics of adding a calibration; we have not attempted to calibrate\n",
    "the schedule to implement the Hadamard gate with high fidelity."
   ]
  },
  {
   "cell_type": "code",
   "execution_count": null,
   "id": "c4c1e2d3",
   "metadata": {
    "hide-output": false,
    "vscode": {
     "languageId": "python3"
    }
   },
   "outputs": [],
   "source": [
    "with pulse.build() as h_q0:\n",
    "    pulse.play(\n",
    "        pulse.library.Gaussian(duration=256, amp=0.2, sigma=50, name=\"custom\"),\n",
    "        pulse.DriveChannel(0)\n",
    "    )\n",
    "\n",
    "circ.add_calibration(\"h\", qubits=[0], schedule=h_q0)"
   ]
  },
  {
   "cell_type": "markdown",
   "id": "ad6c6e0b",
   "metadata": {},
   "source": [
    "Call run on the circuit, and get counts as usual."
   ]
  },
  {
   "cell_type": "code",
   "execution_count": null,
   "id": "332fde97",
   "metadata": {
    "hide-output": false,
    "vscode": {
     "languageId": "python3"
    }
   },
   "outputs": [],
   "source": [
    "%time res = backend.run(circ).result()\n",
    "\n",
    "res.get_counts(0)"
   ]
  },
  {
   "cell_type": "markdown",
   "id": "3589e5b6",
   "metadata": {},
   "source": [
    "### 4.2 Simulating circuits via gate definitions in the backend `Target`\n",
    "\n",
    "Alternatively to the above work flow, add the above schedule as the pulse-level definition of the\n",
    "Hadamard gate on qubit $ 0 $ to backend.target, which impacts how jobs are transpiled for the\n",
    "backend. See the `Target` class documentation for further information."
   ]
  },
  {
   "cell_type": "code",
   "execution_count": null,
   "id": "995f54d2",
   "metadata": {
    "hide-output": false,
    "vscode": {
     "languageId": "python3"
    }
   },
   "outputs": [],
   "source": [
    "from qiskit.circuit.library import HGate\n",
    "from qiskit.transpiler import InstructionProperties\n",
    "\n",
    "backend.target.add_instruction(HGate(), {(0,): InstructionProperties(calibration=h_q0)})"
   ]
  },
  {
   "cell_type": "markdown",
   "id": "d11d1f13",
   "metadata": {},
   "source": [
    "Rebuild the same circuit, however this time we do not need to add the calibration for the Hadamard\n",
    "gate to the circuit object."
   ]
  },
  {
   "cell_type": "code",
   "execution_count": null,
   "id": "1d6fc959",
   "metadata": {
    "hide-output": false,
    "vscode": {
     "languageId": "python3"
    }
   },
   "outputs": [],
   "source": [
    "circ2 = QuantumCircuit(1, 1)\n",
    "circ2.h(0)\n",
    "circ2.measure([0], [0])\n",
    "\n",
    "%time result = backend.run(circ2).result()"
   ]
  },
  {
   "cell_type": "code",
   "execution_count": null,
   "id": "ec07835e",
   "metadata": {
    "hide-output": false,
    "vscode": {
     "languageId": "python3"
    }
   },
   "outputs": [],
   "source": [
    "result.get_counts(0)"
   ]
  },
  {
   "cell_type": "markdown",
   "id": "b193ee75",
   "metadata": {},
   "source": [
    "## 5. Simulating single-qubit calibration processes via Qiskit Experiments\n",
    "\n",
    "Next, we perform rough calibrations for `X` and `SX` gates on both qubits modeled in the\n",
    "`DynamicsBackend`, following the single-qubit calibration tutorial for Qiskit Experiments."
   ]
  },
  {
   "cell_type": "markdown",
   "id": "52eb7a45",
   "metadata": {},
   "source": [
    "### 5.1 Configure the `Target` to include single qubit instructions\n",
    "\n",
    "To enable running of the single qubit experiments, we add the following to the `target`:\n",
    "\n",
    "- Qubit frequency properties (needed by experiments like\n",
    "  `RoughFrequencyCal`). Note that\n",
    "  setting the qubit frequencies in the `target` does not impact the behaviour of the\n",
    "  `DynamicsBackend` itself. It is purely a data field that does not impact functionality.\n",
    "  Previously set frequency properties, such as `channel_carrier_freqs` in the `Solver`,\n",
    "  will remain unchanged. Here, we set the frequencies to the undressed frequencies in the model.  \n",
    "- `X` and `SX` gate instructions, which the transpiler needs to check are supported by the\n",
    "  backend.  \n",
    "- Add definitions of `RZ` gates as phase shifts. These instructions control the phase of the drive\n",
    "  channels, as well as any control channels acting on a given qubit.  \n",
    "- Add a `CX` gate between qubits $ (0, 1) $ and $ (1, 0) $. While this tutorial will not\n",
    "  be utilizing it, this ensures that validation steps checking that the device is fully connected\n",
    "  will pass.  "
   ]
  },
  {
   "cell_type": "code",
   "execution_count": null,
   "id": "03909b15",
   "metadata": {
    "hide-output": false,
    "vscode": {
     "languageId": "python3"
    }
   },
   "outputs": [],
   "source": [
    "from qiskit.circuit.library import XGate, SXGate, RZGate, CXGate\n",
    "from qiskit.circuit import Parameter\n",
    "from qiskit.providers.backend import QubitProperties\n",
    "\n",
    "target = backend.target\n",
    "\n",
    "# qubit properties\n",
    "target.qubit_properties = [QubitProperties(frequency=v0), QubitProperties(frequency=v1)]\n",
    "\n",
    "# add instructions\n",
    "target.add_instruction(XGate(), properties={(0,): None, (1,): None})\n",
    "target.add_instruction(SXGate(), properties={(0,): None, (1,): None})\n",
    "\n",
    "target.add_instruction(CXGate(), properties={(0, 1): None, (1, 0): None})\n",
    "\n",
    "# Add RZ instruction as phase shift for drag cal\n",
    "phi = Parameter(\"phi\")\n",
    "with pulse.build() as rz0:\n",
    "    pulse.shift_phase(phi, pulse.DriveChannel(0))\n",
    "    pulse.shift_phase(phi, pulse.ControlChannel(1))\n",
    "\n",
    "with pulse.build() as rz1:\n",
    "    pulse.shift_phase(phi, pulse.DriveChannel(1))\n",
    "    pulse.shift_phase(phi, pulse.ControlChannel(0))\n",
    "\n",
    "target.add_instruction(\n",
    "    RZGate(phi),\n",
    "    {(0,): InstructionProperties(calibration=rz0), (1,): InstructionProperties(calibration=rz1)}\n",
    ")"
   ]
  },
  {
   "cell_type": "markdown",
   "id": "d85e3c19",
   "metadata": {},
   "source": [
    "### 5.2 Prepare `Calibrations` object\n",
    "\n",
    "Next, prepare the `Calibrations`\n",
    "object. Here we use the\n",
    "`FixedFrequencyTransmon`\n",
    "template library to initialize our calibrations."
   ]
  },
  {
   "cell_type": "code",
   "execution_count": null,
   "id": "a572a0e2",
   "metadata": {
    "hide-output": false,
    "vscode": {
     "languageId": "python3"
    }
   },
   "outputs": [],
   "source": [
    "import pandas as pd\n",
    "from qiskit_experiments.calibration_management.calibrations import Calibrations\n",
    "from qiskit_experiments.calibration_management.basis_gate_library import FixedFrequencyTransmon\n",
    "\n",
    "cals = Calibrations(libraries=[FixedFrequencyTransmon(basis_gates=['x', 'sx'])])\n",
    "\n",
    "pd.DataFrame(**cals.parameters_table(qubit_list=[0, ()]))"
   ]
  },
  {
   "cell_type": "markdown",
   "id": "388b4d0b",
   "metadata": {},
   "source": [
    "### 5.3 Rough amplitude calibration\n",
    "\n",
    "Next, run a rough amplitude calibration for `X` and `SX` gates for both qubits. First, build the\n",
    "experiments."
   ]
  },
  {
   "cell_type": "code",
   "execution_count": null,
   "id": "8830dc38",
   "metadata": {
    "hide-output": false,
    "vscode": {
     "languageId": "python3"
    }
   },
   "outputs": [],
   "source": [
    "from qiskit_experiments.library.calibration import RoughXSXAmplitudeCal\n",
    "\n",
    "# rabi experiments for qubit 0\n",
    "rabi0 = RoughXSXAmplitudeCal(0, cals, backend=backend, amplitudes=np.linspace(-0.2, 0.2, 27))\n",
    "\n",
    "# rabi experiments for qubit 1\n",
    "rabi1 = RoughXSXAmplitudeCal(1, cals, backend=backend, amplitudes=np.linspace(-0.2, 0.2, 27))"
   ]
  },
  {
   "cell_type": "markdown",
   "id": "9aa08f28",
   "metadata": {},
   "source": [
    "Run the Rabi experiments."
   ]
  },
  {
   "cell_type": "code",
   "execution_count": null,
   "id": "d0228abd",
   "metadata": {
    "hide-output": false,
    "vscode": {
     "languageId": "python3"
    }
   },
   "outputs": [],
   "source": [
    "%%time\n",
    "rabi0_data = rabi0.run().block_for_results()\n",
    "rabi1_data = rabi1.run().block_for_results()"
   ]
  },
  {
   "cell_type": "markdown",
   "id": "5aa098fa",
   "metadata": {},
   "source": [
    "Plot the results."
   ]
  },
  {
   "cell_type": "code",
   "execution_count": null,
   "id": "1a1efb58",
   "metadata": {
    "hide-output": false,
    "vscode": {
     "languageId": "python3"
    }
   },
   "outputs": [],
   "source": [
    "rabi0_data.figure(0)"
   ]
  },
  {
   "cell_type": "code",
   "execution_count": null,
   "id": "b672a402",
   "metadata": {
    "hide-output": false,
    "vscode": {
     "languageId": "python3"
    }
   },
   "outputs": [],
   "source": [
    "rabi1_data.figure(0)"
   ]
  },
  {
   "cell_type": "markdown",
   "id": "aeaefb77",
   "metadata": {},
   "source": [
    "Observe the updated parameters for qubit 0."
   ]
  },
  {
   "cell_type": "code",
   "execution_count": null,
   "id": "86c2d056",
   "metadata": {
    "hide-output": false,
    "vscode": {
     "languageId": "python3"
    }
   },
   "outputs": [],
   "source": [
    "pd.DataFrame(**cals.parameters_table(qubit_list=[0, ()], parameters=\"amp\"))"
   ]
  },
  {
   "cell_type": "markdown",
   "id": "3881f9ea",
   "metadata": {},
   "source": [
    "### 5.4 Rough Drag parameter calibration\n",
    "\n",
    "Run rough Drag parameter calibration for the `X` and `SX` gates. This follows the same procedure\n",
    "as above."
   ]
  },
  {
   "cell_type": "code",
   "execution_count": null,
   "id": "9f05573c",
   "metadata": {
    "hide-output": false,
    "vscode": {
     "languageId": "python3"
    }
   },
   "outputs": [],
   "source": [
    "from qiskit_experiments.library.calibration import RoughDragCal\n",
    "\n",
    "cal_drag0 = RoughDragCal(0, cals, backend=backend, betas=np.linspace(-20, 20, 15))\n",
    "cal_drag1 = RoughDragCal(1, cals, backend=backend, betas=np.linspace(-20, 20, 15))\n",
    "\n",
    "cal_drag0.set_experiment_options(reps=[3, 5, 7])\n",
    "cal_drag1.set_experiment_options(reps=[3, 5, 7])\n",
    "\n",
    "cal_drag0.circuits()[5].draw(output=\"mpl\")"
   ]
  },
  {
   "cell_type": "code",
   "execution_count": null,
   "id": "d78eee4b",
   "metadata": {
    "hide-output": false,
    "vscode": {
     "languageId": "python3"
    }
   },
   "outputs": [],
   "source": [
    "%%time\n",
    "drag0_data = cal_drag0.run().block_for_results()\n",
    "drag1_data = cal_drag1.run().block_for_results()"
   ]
  },
  {
   "cell_type": "code",
   "execution_count": null,
   "id": "677ef32c",
   "metadata": {
    "hide-output": false,
    "vscode": {
     "languageId": "python3"
    }
   },
   "outputs": [],
   "source": [
    "drag0_data.figure(0)"
   ]
  },
  {
   "cell_type": "code",
   "execution_count": null,
   "id": "c8d4901a",
   "metadata": {
    "hide-output": false,
    "vscode": {
     "languageId": "python3"
    }
   },
   "outputs": [],
   "source": [
    "drag1_data.figure(0)"
   ]
  },
  {
   "cell_type": "markdown",
   "id": "ce7ddbaa",
   "metadata": {},
   "source": [
    "The updated calibrations object:"
   ]
  },
  {
   "cell_type": "code",
   "execution_count": null,
   "id": "6bf68284",
   "metadata": {
    "hide-output": false,
    "vscode": {
     "languageId": "python3"
    }
   },
   "outputs": [],
   "source": [
    "pd.DataFrame(**cals.parameters_table(qubit_list=[0, ()], parameters=\"amp\"))"
   ]
  },
  {
   "cell_type": "markdown",
   "id": "dc8c943d",
   "metadata": {},
   "source": [
    "## 6. Simulating 2 qubit interaction characterization via the `CrossResonanceHamiltonian` experiment\n",
    "\n",
    "Finally, simulate the `CrossResonanceHamiltonian` characterization experiment.\n",
    "\n",
    "First, we further configure the backend to run this experiment. This requires defining the control\n",
    "channel map, which is a dictionary mapping control-target qubit index pairs (given as a tuple) to\n",
    "the control channel index used to drive the corresponding cross-resonance interaction. This is\n",
    "required by the experiment to determine which channel to drive for each control-target pair."
   ]
  },
  {
   "cell_type": "code",
   "execution_count": null,
   "id": "6e1f6605",
   "metadata": {
    "hide-output": false,
    "vscode": {
     "languageId": "python3"
    }
   },
   "outputs": [],
   "source": [
    "# set the control channel map\n",
    "backend.set_options(control_channel_map={(0, 1): 0, (1, 0): 1})"
   ]
  },
  {
   "cell_type": "markdown",
   "id": "4f0e30cf",
   "metadata": {},
   "source": [
    "Build the characterization experiment object, and update gate definitions in `target` with the\n",
    "values for the single qubit gates calibrated above."
   ]
  },
  {
   "cell_type": "code",
   "execution_count": null,
   "id": "1de41d2f",
   "metadata": {
    "hide-output": false,
    "vscode": {
     "languageId": "python3"
    }
   },
   "outputs": [],
   "source": [
    "from qiskit_experiments.library import CrossResonanceHamiltonian\n",
    "\n",
    "cr_ham_experiment = CrossResonanceHamiltonian(\n",
    "    qubits=(0, 1),\n",
    "    flat_top_widths=np.linspace(0, 5000, 17),\n",
    "    backend=backend\n",
    ")\n",
    "\n",
    "backend.target.update_from_instruction_schedule_map(cals.get_inst_map())"
   ]
  },
  {
   "cell_type": "code",
   "execution_count": null,
   "id": "75559238",
   "metadata": {
    "hide-output": false,
    "vscode": {
     "languageId": "python3"
    }
   },
   "outputs": [],
   "source": [
    "cr_ham_experiment.circuits()[10].draw(\"mpl\")"
   ]
  },
  {
   "cell_type": "markdown",
   "id": "64ad84c2",
   "metadata": {},
   "source": [
    "Run the simulation."
   ]
  },
  {
   "cell_type": "code",
   "execution_count": null,
   "id": "1df4a568",
   "metadata": {
    "hide-output": false,
    "vscode": {
     "languageId": "python3"
    }
   },
   "outputs": [],
   "source": [
    "%time data_cr = cr_ham_experiment.run().block_for_results()"
   ]
  },
  {
   "cell_type": "code",
   "execution_count": null,
   "id": "8fa16a02",
   "metadata": {
    "hide-output": false,
    "vscode": {
     "languageId": "python3"
    }
   },
   "outputs": [],
   "source": [
    "data_cr.figure(0)"
   ]
  }
 ],
 "metadata": {
  "date": 1683095738.1516275,
  "filename": "dynamics_backend.rst",
  "kernelspec": {
   "display_name": "Python",
   "language": "python3",
   "name": "python3"
  },
  "title": "Simulating backends at the pulse-level with DynamicsBackend"
 },
 "nbformat": 4,
 "nbformat_minor": 5
}
