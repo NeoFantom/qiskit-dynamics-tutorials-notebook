{
 "cells": [
  {
   "cell_type": "markdown",
   "id": "240ac04a",
   "metadata": {},
   "source": [
    "Notebook created: 2023-05-03 14:35:38  \n",
    "Generated from: sphinxcontrib-jupyter.minimal/index.rst  "
   ]
  },
  {
   "cell_type": "markdown",
   "id": "ac3205ee",
   "metadata": {},
   "source": [
    "# Dynamics Tutorials\n",
    "\n",
    "- [Simulating Rabi oscillations with noise and decoherence](Rabi_oscillations.ipynb)\n",
    "- [Solving the Lindblad dynamics of a qubit chain](Lindblad_dynamics_simulation.ipynb)\n",
    "- [Simulating Qiskit Pulse Schedules with Qiskit Dynamics](qiskit_pulse.ipynb)\n",
    "- [Gradient optimization of a pulse sequence](optimizing_pulse_sequence.ipynb)\n",
    "- [Simulating backends at the pulse-level with `DynamicsBackend`](dynamics_backend.ipynb)"
   ]
  }
 ],
 "metadata": {
  "date": 1683095738.163598,
  "filename": "index.rst",
  "kernelspec": {
   "display_name": "Python",
   "language": "python3",
   "name": "python3"
  },
  "title": "Dynamics Tutorials"
 },
 "nbformat": 4,
 "nbformat_minor": 5
}