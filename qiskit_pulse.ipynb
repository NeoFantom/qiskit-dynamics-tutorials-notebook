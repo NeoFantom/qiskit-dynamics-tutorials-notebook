{
 "cells": [
  {
   "cell_type": "markdown",
   "id": "788e6ca2",
   "metadata": {},
   "source": [
    "Notebook created: 2023-05-03 14:35:38  \n",
    "Generated from: sphinxcontrib-jupyter.minimal/qiskit_pulse.rst  "
   ]
  },
  {
   "cell_type": "markdown",
   "id": "12e7751d",
   "metadata": {},
   "source": [
    "# Simulating Qiskit Pulse Schedules with Qiskit Dynamics\n",
    "\n",
    "This tutorial shows how to use Qiskit Dynamics to simulate a Pulse schedule\n",
    "with a simple model of a qubit. The\n",
    "qubit is modeled by the drift hamiltonian\n",
    "\n",
    "$$\n",
    "H_\\text{drift} = \\frac{\\omega}{2} Z\n",
    "$$\n",
    "\n",
    "to which we apply the drive\n",
    "\n",
    "$$\n",
    "H_\\text{drive}(t) = \\frac{r\\,\\Omega(t)}{2} X\n",
    "$$\n",
    "\n",
    "Here, $ \\Omega(t) $ is the drive signal which we will create using\n",
    "Qiskit pulse. The factor $ r $ is the strength with which the drive\n",
    "signal drives the qubit. We begin by creating a pulse schedule with a\n",
    "`sx` gate followed by a phase shift on the drive so that the following\n",
    "pulse creates a `sy` rotation. Therefore, if the qubit begins in the\n",
    "ground state we expect that this second pulse will not have any effect\n",
    "on the qubit. This situation is simulated with the following steps:\n",
    "\n",
    "1. Create the pulse schedule  \n",
    "1. Converting pulse schedules to a `Signal`  \n",
    "1. Create the system model, configured to simulate pulse schedules  \n",
    "1. Simulate the pulse schedule using the model  "
   ]
  },
  {
   "cell_type": "markdown",
   "id": "46d587dd",
   "metadata": {},
   "source": [
    "## 1. Create the pulse schedule\n",
    "\n",
    "First, we use the pulse module in Qiskit to create a pulse schedule."
   ]
  },
  {
   "cell_type": "code",
   "execution_count": null,
   "id": "984d1856",
   "metadata": {
    "hide-output": false
   },
   "outputs": [],
   "source": [
    "import numpy as np\n",
    "import qiskit.pulse as pulse\n",
    "\n",
    "# Strength of the Rabi-rate in GHz.\n",
    "r = 0.1\n",
    "\n",
    "# Frequency of the qubit transition in GHz.\n",
    "w = 5.\n",
    "\n",
    "# Sample rate of the backend in ns.\n",
    "dt = 1 / 4.5\n",
    "\n",
    "# Define gaussian envelope function to have a pi rotation.\n",
    "amp = 1.\n",
    "area = 1\n",
    "sig = area*0.399128/r/amp\n",
    "T = 4*sig\n",
    "duration = int(T / dt)\n",
    "beta = 2.0\n",
    "\n",
    "# The 1.75 factor is used to approximately get a sx gate.\n",
    "# Further \"calibration\" could be done to refine the pulse amplitude.\n",
    "with pulse.build(name=\"sx-sy schedule\") as xp:\n",
    "    pulse.play(pulse.Drag(duration, amp / 1.75, sig / dt, beta), pulse.DriveChannel(0))\n",
    "    pulse.shift_phase(np.pi/2, pulse.DriveChannel(0))\n",
    "    pulse.play(pulse.Drag(duration, amp / 1.75, sig / dt, beta), pulse.DriveChannel(0))\n",
    "\n",
    "xp.draw()"
   ]
  },
  {
   "cell_type": "markdown",
   "id": "01d85cce",
   "metadata": {},
   "source": [
    "## 2. Convert the pulse schedule to a `Signal`\n",
    "\n",
    "Qiskit Dynamics has functionality for converting pulse schedule to instances\n",
    "of `Signal`. This is done using the pulse instruction to signal\n",
    "converter `InstructionToSignals`. This converter needs to know the\n",
    "sample rate of the arbitrary waveform generators creating the signals,\n",
    "i.e. `dt`, as well as the carrier frequency of the signals,\n",
    "i.e. `w`. The plot below shows the envelopes and the signals resulting\n",
    "from this conversion. The dashed line shows the time at which the\n",
    "virtual `Z` gate is applied."
   ]
  },
  {
   "cell_type": "code",
   "execution_count": null,
   "id": "8d34893b",
   "metadata": {
    "hide-output": false
   },
   "outputs": [],
   "source": [
    "from matplotlib import pyplot as plt\n",
    "from qiskit_dynamics.pulse import InstructionToSignals\n",
    "\n",
    "plt.rcParams[\"font.size\"] = 16\n",
    "\n",
    "converter = InstructionToSignals(dt, carriers={\"d0\": w})\n",
    "\n",
    "signals = converter.get_signals(xp)\n",
    "fig, axs = plt.subplots(1, 2, figsize=(14, 4.5))\n",
    "for ax, title in zip(axs, [\"envelope\", \"signal\"]):\n",
    "    signals[0].draw(0, 2*T, 2000, title, axis=ax)\n",
    "    ax.set_xlabel(\"Time (ns)\")\n",
    "    ax.set_ylabel(\"Amplitude\")\n",
    "    ax.set_title(title)\n",
    "    ax.vlines(T, ax.get_ylim()[0], ax.get_ylim()[1], \"k\", linestyle=\"dashed\")"
   ]
  },
  {
   "cell_type": "markdown",
   "id": "ee97ebb9",
   "metadata": {},
   "source": [
    "\n",
    "<a id='pulse-solver'></a>"
   ]
  },
  {
   "cell_type": "markdown",
   "id": "ff8108da",
   "metadata": {},
   "source": [
    "## 3. Create the system model\n",
    "\n",
    "We now setup a `Solver` instance with the desired Hamiltonian information,\n",
    "and configure it to simulate pulse schedules. This requires specifying\n",
    "which channels act on which operators, channel carrier frequencies, and sample width `dt`.\n",
    "Additionally, we setup this solver in the rotating frame and perform the\n",
    "rotating wave approximation."
   ]
  },
  {
   "cell_type": "code",
   "execution_count": null,
   "id": "9dca127a",
   "metadata": {
    "hide-output": false
   },
   "outputs": [],
   "source": [
    "from qiskit.quantum_info.operators import Operator\n",
    "from qiskit_dynamics import Solver\n",
    "\n",
    "# construct operators\n",
    "X = Operator.from_label('X')\n",
    "Z = Operator.from_label('Z')\n",
    "\n",
    "drift = 2 * np.pi * w * Z/2\n",
    "operators = [2 * np.pi * r * X/2]\n",
    "\n",
    "# construct the solver\n",
    "hamiltonian_solver = Solver(\n",
    "    static_hamiltonian=drift,\n",
    "    hamiltonian_operators=operators,\n",
    "    rotating_frame=drift,\n",
    "    rwa_cutoff_freq=2 * 5.0,\n",
    "    hamiltonian_channels=['d0'],\n",
    "    channel_carrier_freqs={'d0': w},\n",
    "    dt=dt\n",
    ")"
   ]
  },
  {
   "cell_type": "markdown",
   "id": "dcfdc1a7",
   "metadata": {},
   "source": [
    "## 4. Simulate the pulse schedule using the model\n",
    "\n",
    "In the last step we perform the simulation and plot the results. Note that, as we have\n",
    "configured `hamiltonian_solver` to simulate pulse schedules, we pass the schedule `xp`\n",
    "directly to the `signals` argument of the `solve` method. Equivalently, `signals`\n",
    "generated by `converter.get_signals` above can also be passed to the `signals` argument\n",
    "and in this case should produce identical behavior."
   ]
  },
  {
   "cell_type": "code",
   "execution_count": null,
   "id": "91b92d7b",
   "metadata": {
    "hide-output": false
   },
   "outputs": [],
   "source": [
    "from qiskit.quantum_info.states import Statevector\n",
    "\n",
    "# Start the qubit in its ground state.\n",
    "y0 = Statevector([1., 0.])\n",
    "\n",
    "%time sol = hamiltonian_solver.solve(t_span=[0., 2*T], y0=y0, signals=xp, atol=1e-8, rtol=1e-8)"
   ]
  },
  {
   "cell_type": "code",
   "execution_count": null,
   "id": "61f7d8b3",
   "metadata": {
    "hide-output": false
   },
   "outputs": [],
   "source": [
    "def plot_populations(sol):\n",
    "    pop0 = [psi.probabilities()[0] for psi in sol.y]\n",
    "    pop1 = [psi.probabilities()[1] for psi in sol.y]\n",
    "\n",
    "    fig = plt.figure(figsize=(8, 5))\n",
    "    plt.plot(sol.t, pop0, lw=3, label=\"Population in |0>\")\n",
    "    plt.plot(sol.t, pop1, lw=3, label=\"Population in |1>\")\n",
    "    plt.xlabel(\"Time (ns)\")\n",
    "    plt.ylabel(\"Population\")\n",
    "    plt.legend(frameon=False)\n",
    "    plt.ylim([0, 1.05])\n",
    "    plt.xlim([0, 2*T])\n",
    "    plt.vlines(T, 0, 1.05, \"k\", linestyle=\"dashed\")"
   ]
  },
  {
   "cell_type": "markdown",
   "id": "94c77172",
   "metadata": {},
   "source": [
    "The plot below shows the population of the qubit as it evolves during\n",
    "the pulses. The vertical dashed line shows the time of the virtual Z\n",
    "rotation which was induced by the `shift_phase` instruction in the\n",
    "pulse schedule. As expected, the first pulse moves the qubit to an\n",
    "eigenstate of the `Y` operator. Therefore, the second pulse, which\n",
    "drives around the `Y`-axis due to the phase shift, has hardley any\n",
    "influence on the populations of the qubit."
   ]
  },
  {
   "cell_type": "code",
   "execution_count": null,
   "id": "4f2b0ffa",
   "metadata": {
    "hide-output": false
   },
   "outputs": [],
   "source": [
    "plot_populations(sol)"
   ]
  }
 ],
 "metadata": {
  "date": 1683095738.2114675,
  "filename": "qiskit_pulse.rst",
  "kernelspec": {
   "display_name": "Python",
   "language": "python3",
   "name": "python3"
  },
  "title": "Simulating Qiskit Pulse Schedules with Qiskit Dynamics"
 },
 "nbformat": 4,
 "nbformat_minor": 5
}